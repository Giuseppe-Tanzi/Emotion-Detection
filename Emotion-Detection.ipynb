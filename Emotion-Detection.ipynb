{
 "cells": [
  {
   "cell_type": "markdown",
   "metadata": {
    "id": "gwXEawQ6wvxD"
   },
   "source": [
    "# Deep Learning Exam - Emotion Detection\n",
    "## Student: Giuseppe Tanzi"
   ]
  },
  {
   "cell_type": "markdown",
   "metadata": {
    "id": "MIu5U9iHc1lr"
   },
   "source": [
    "The task consists in creating a Emotion Detection model, able to recognise the emotion expressed in a given text/sentence. \n",
    "\n",
    "Thus, you have a NLP task and for this reason the steps are the following:\n",
    " - Preprocessing of the dataset;\n",
    " - Create a model able to classify the text;\n",
    " - Train the model;\n",
    " - Evaluate the model."
   ]
  },
  {
   "cell_type": "markdown",
   "metadata": {
    "id": "fqN0j7gdD3Rq"
   },
   "source": [
    "*Import libraries and utility functions*"
   ]
  },
  {
   "cell_type": "code",
   "execution_count": 1,
   "metadata": {
    "colab": {
     "base_uri": "https://localhost:8080/"
    },
    "id": "PRr5rGGlEAkw",
    "outputId": "16f6942e-35dd-4a06-e951-ba0af7509df6"
   },
   "outputs": [
    {
     "name": "stdout",
     "output_type": "stream",
     "text": [
      "Looking in indexes: https://pypi.org/simple, https://us-python.pkg.dev/colab-wheels/public/simple/\n",
      "Collecting tensorflow_addons\n",
      "  Downloading tensorflow_addons-0.17.1-cp37-cp37m-manylinux_2_17_x86_64.manylinux2014_x86_64.whl (1.1 MB)\n",
      "\u001B[K     |████████████████████████████████| 1.1 MB 5.1 MB/s \n",
      "\u001B[?25hRequirement already satisfied: typeguard>=2.7 in /usr/local/lib/python3.7/dist-packages (from tensorflow_addons) (2.7.1)\n",
      "Requirement already satisfied: packaging in /usr/local/lib/python3.7/dist-packages (from tensorflow_addons) (21.3)\n",
      "Requirement already satisfied: pyparsing!=3.0.5,>=2.0.2 in /usr/local/lib/python3.7/dist-packages (from packaging->tensorflow_addons) (3.0.9)\n",
      "Installing collected packages: tensorflow-addons\n",
      "Successfully installed tensorflow-addons-0.17.1\n",
      "Looking in indexes: https://pypi.org/simple, https://us-python.pkg.dev/colab-wheels/public/simple/\n",
      "Collecting keras-self-attention\n",
      "  Downloading keras-self-attention-0.51.0.tar.gz (11 kB)\n",
      "Requirement already satisfied: numpy in /usr/local/lib/python3.7/dist-packages (from keras-self-attention) (1.21.6)\n",
      "Building wheels for collected packages: keras-self-attention\n",
      "  Building wheel for keras-self-attention (setup.py) ... \u001B[?25l\u001B[?25hdone\n",
      "  Created wheel for keras-self-attention: filename=keras_self_attention-0.51.0-py3-none-any.whl size=18912 sha256=e31cb620994621693d2f0ef485a9d8e891857ede799deabf5189c237ee6d74ec\n",
      "  Stored in directory: /root/.cache/pip/wheels/95/b1/a8/5ee00cc137940b2f6fa198212e8f45d813d0e0d9c3a04035a3\n",
      "Successfully built keras-self-attention\n",
      "Installing collected packages: keras-self-attention\n",
      "Successfully installed keras-self-attention-0.51.0\n",
      "Looking in indexes: https://pypi.org/simple, https://us-python.pkg.dev/colab-wheels/public/simple/\n",
      "Collecting keras-tcn\n",
      "  Downloading keras_tcn-3.4.4-py3-none-any.whl (13 kB)\n",
      "Requirement already satisfied: tensorflow-addons in /usr/local/lib/python3.7/dist-packages (from keras-tcn) (0.17.1)\n",
      "Requirement already satisfied: numpy in /usr/local/lib/python3.7/dist-packages (from keras-tcn) (1.21.6)\n",
      "Requirement already satisfied: tensorflow in /usr/local/lib/python3.7/dist-packages (from keras-tcn) (2.8.2+zzzcolab20220527125636)\n",
      "Requirement already satisfied: keras<2.9,>=2.8.0rc0 in /usr/local/lib/python3.7/dist-packages (from tensorflow->keras-tcn) (2.8.0)\n",
      "Requirement already satisfied: six>=1.12.0 in /usr/local/lib/python3.7/dist-packages (from tensorflow->keras-tcn) (1.15.0)\n",
      "Requirement already satisfied: protobuf<3.20,>=3.9.2 in /usr/local/lib/python3.7/dist-packages (from tensorflow->keras-tcn) (3.17.3)\n",
      "Requirement already satisfied: tensorflow-io-gcs-filesystem>=0.23.1 in /usr/local/lib/python3.7/dist-packages (from tensorflow->keras-tcn) (0.26.0)\n",
      "Requirement already satisfied: gast>=0.2.1 in /usr/local/lib/python3.7/dist-packages (from tensorflow->keras-tcn) (0.5.3)\n",
      "Requirement already satisfied: libclang>=9.0.1 in /usr/local/lib/python3.7/dist-packages (from tensorflow->keras-tcn) (14.0.1)\n",
      "Requirement already satisfied: typing-extensions>=3.6.6 in /usr/local/lib/python3.7/dist-packages (from tensorflow->keras-tcn) (4.1.1)\n",
      "Requirement already satisfied: absl-py>=0.4.0 in /usr/local/lib/python3.7/dist-packages (from tensorflow->keras-tcn) (1.1.0)\n",
      "Requirement already satisfied: h5py>=2.9.0 in /usr/local/lib/python3.7/dist-packages (from tensorflow->keras-tcn) (3.1.0)\n",
      "Requirement already satisfied: astunparse>=1.6.0 in /usr/local/lib/python3.7/dist-packages (from tensorflow->keras-tcn) (1.6.3)\n",
      "Requirement already satisfied: tensorflow-estimator<2.9,>=2.8 in /usr/local/lib/python3.7/dist-packages (from tensorflow->keras-tcn) (2.8.0)\n",
      "Requirement already satisfied: opt-einsum>=2.3.2 in /usr/local/lib/python3.7/dist-packages (from tensorflow->keras-tcn) (3.3.0)\n",
      "Requirement already satisfied: google-pasta>=0.1.1 in /usr/local/lib/python3.7/dist-packages (from tensorflow->keras-tcn) (0.2.0)\n",
      "Requirement already satisfied: keras-preprocessing>=1.1.1 in /usr/local/lib/python3.7/dist-packages (from tensorflow->keras-tcn) (1.1.2)\n",
      "Requirement already satisfied: wrapt>=1.11.0 in /usr/local/lib/python3.7/dist-packages (from tensorflow->keras-tcn) (1.14.1)\n",
      "Requirement already satisfied: flatbuffers>=1.12 in /usr/local/lib/python3.7/dist-packages (from tensorflow->keras-tcn) (2.0)\n",
      "Requirement already satisfied: setuptools in /usr/local/lib/python3.7/dist-packages (from tensorflow->keras-tcn) (57.4.0)\n",
      "Requirement already satisfied: grpcio<2.0,>=1.24.3 in /usr/local/lib/python3.7/dist-packages (from tensorflow->keras-tcn) (1.46.3)\n",
      "Requirement already satisfied: termcolor>=1.1.0 in /usr/local/lib/python3.7/dist-packages (from tensorflow->keras-tcn) (1.1.0)\n",
      "Requirement already satisfied: tensorboard<2.9,>=2.8 in /usr/local/lib/python3.7/dist-packages (from tensorflow->keras-tcn) (2.8.0)\n",
      "Requirement already satisfied: wheel<1.0,>=0.23.0 in /usr/local/lib/python3.7/dist-packages (from astunparse>=1.6.0->tensorflow->keras-tcn) (0.37.1)\n",
      "Requirement already satisfied: cached-property in /usr/local/lib/python3.7/dist-packages (from h5py>=2.9.0->tensorflow->keras-tcn) (1.5.2)\n",
      "Requirement already satisfied: tensorboard-plugin-wit>=1.6.0 in /usr/local/lib/python3.7/dist-packages (from tensorboard<2.9,>=2.8->tensorflow->keras-tcn) (1.8.1)\n",
      "Requirement already satisfied: requests<3,>=2.21.0 in /usr/local/lib/python3.7/dist-packages (from tensorboard<2.9,>=2.8->tensorflow->keras-tcn) (2.23.0)\n",
      "Requirement already satisfied: google-auth-oauthlib<0.5,>=0.4.1 in /usr/local/lib/python3.7/dist-packages (from tensorboard<2.9,>=2.8->tensorflow->keras-tcn) (0.4.6)\n",
      "Requirement already satisfied: markdown>=2.6.8 in /usr/local/lib/python3.7/dist-packages (from tensorboard<2.9,>=2.8->tensorflow->keras-tcn) (3.3.7)\n",
      "Requirement already satisfied: google-auth<3,>=1.6.3 in /usr/local/lib/python3.7/dist-packages (from tensorboard<2.9,>=2.8->tensorflow->keras-tcn) (1.35.0)\n",
      "Requirement already satisfied: werkzeug>=0.11.15 in /usr/local/lib/python3.7/dist-packages (from tensorboard<2.9,>=2.8->tensorflow->keras-tcn) (1.0.1)\n",
      "Requirement already satisfied: tensorboard-data-server<0.7.0,>=0.6.0 in /usr/local/lib/python3.7/dist-packages (from tensorboard<2.9,>=2.8->tensorflow->keras-tcn) (0.6.1)\n",
      "Requirement already satisfied: cachetools<5.0,>=2.0.0 in /usr/local/lib/python3.7/dist-packages (from google-auth<3,>=1.6.3->tensorboard<2.9,>=2.8->tensorflow->keras-tcn) (4.2.4)\n",
      "Requirement already satisfied: rsa<5,>=3.1.4 in /usr/local/lib/python3.7/dist-packages (from google-auth<3,>=1.6.3->tensorboard<2.9,>=2.8->tensorflow->keras-tcn) (4.8)\n",
      "Requirement already satisfied: pyasn1-modules>=0.2.1 in /usr/local/lib/python3.7/dist-packages (from google-auth<3,>=1.6.3->tensorboard<2.9,>=2.8->tensorflow->keras-tcn) (0.2.8)\n",
      "Requirement already satisfied: requests-oauthlib>=0.7.0 in /usr/local/lib/python3.7/dist-packages (from google-auth-oauthlib<0.5,>=0.4.1->tensorboard<2.9,>=2.8->tensorflow->keras-tcn) (1.3.1)\n",
      "Requirement already satisfied: importlib-metadata>=4.4 in /usr/local/lib/python3.7/dist-packages (from markdown>=2.6.8->tensorboard<2.9,>=2.8->tensorflow->keras-tcn) (4.11.4)\n",
      "Requirement already satisfied: zipp>=0.5 in /usr/local/lib/python3.7/dist-packages (from importlib-metadata>=4.4->markdown>=2.6.8->tensorboard<2.9,>=2.8->tensorflow->keras-tcn) (3.8.0)\n",
      "Requirement already satisfied: pyasn1<0.5.0,>=0.4.6 in /usr/local/lib/python3.7/dist-packages (from pyasn1-modules>=0.2.1->google-auth<3,>=1.6.3->tensorboard<2.9,>=2.8->tensorflow->keras-tcn) (0.4.8)\n",
      "Requirement already satisfied: chardet<4,>=3.0.2 in /usr/local/lib/python3.7/dist-packages (from requests<3,>=2.21.0->tensorboard<2.9,>=2.8->tensorflow->keras-tcn) (3.0.4)\n",
      "Requirement already satisfied: certifi>=2017.4.17 in /usr/local/lib/python3.7/dist-packages (from requests<3,>=2.21.0->tensorboard<2.9,>=2.8->tensorflow->keras-tcn) (2022.6.15)\n",
      "Requirement already satisfied: urllib3!=1.25.0,!=1.25.1,<1.26,>=1.21.1 in /usr/local/lib/python3.7/dist-packages (from requests<3,>=2.21.0->tensorboard<2.9,>=2.8->tensorflow->keras-tcn) (1.24.3)\n",
      "Requirement already satisfied: idna<3,>=2.5 in /usr/local/lib/python3.7/dist-packages (from requests<3,>=2.21.0->tensorboard<2.9,>=2.8->tensorflow->keras-tcn) (2.10)\n",
      "Requirement already satisfied: oauthlib>=3.0.0 in /usr/local/lib/python3.7/dist-packages (from requests-oauthlib>=0.7.0->google-auth-oauthlib<0.5,>=0.4.1->tensorboard<2.9,>=2.8->tensorflow->keras-tcn) (3.2.0)\n",
      "Requirement already satisfied: packaging in /usr/local/lib/python3.7/dist-packages (from tensorflow-addons->keras-tcn) (21.3)\n",
      "Requirement already satisfied: typeguard>=2.7 in /usr/local/lib/python3.7/dist-packages (from tensorflow-addons->keras-tcn) (2.7.1)\n",
      "Requirement already satisfied: pyparsing!=3.0.5,>=2.0.2 in /usr/local/lib/python3.7/dist-packages (from packaging->tensorflow-addons->keras-tcn) (3.0.9)\n",
      "Installing collected packages: keras-tcn\n",
      "Successfully installed keras-tcn-3.4.4\n",
      "Looking in indexes: https://pypi.org/simple, https://us-python.pkg.dev/colab-wheels/public/simple/\n",
      "Collecting contractions\n",
      "  Downloading contractions-0.1.72-py2.py3-none-any.whl (8.3 kB)\n",
      "Collecting textsearch>=0.0.21\n",
      "  Downloading textsearch-0.0.21-py2.py3-none-any.whl (7.5 kB)\n",
      "Collecting pyahocorasick\n",
      "  Downloading pyahocorasick-1.4.4-cp37-cp37m-manylinux_2_17_x86_64.manylinux2014_x86_64.whl (106 kB)\n",
      "\u001B[K     |████████████████████████████████| 106 kB 6.6 MB/s \n",
      "\u001B[?25hCollecting anyascii\n",
      "  Downloading anyascii-0.3.1-py3-none-any.whl (287 kB)\n",
      "\u001B[K     |████████████████████████████████| 287 kB 33.8 MB/s \n",
      "\u001B[?25hInstalling collected packages: pyahocorasick, anyascii, textsearch, contractions\n",
      "Successfully installed anyascii-0.3.1 contractions-0.1.72 pyahocorasick-1.4.4 textsearch-0.0.21\n",
      "Looking in indexes: https://pypi.org/simple, https://us-python.pkg.dev/colab-wheels/public/simple/\n",
      "Collecting demoji\n",
      "  Downloading demoji-1.1.0-py3-none-any.whl (42 kB)\n",
      "\u001B[K     |████████████████████████████████| 42 kB 952 kB/s \n",
      "\u001B[?25hInstalling collected packages: demoji\n",
      "Successfully installed demoji-1.1.0\n"
     ]
    }
   ],
   "source": [
    "!pip install tensorflow_addons\n",
    "!pip install keras-self-attention\n",
    "!pip install keras-tcn\n",
    "!pip install contractions\n",
    "!pip install demoji"
   ]
  },
  {
   "cell_type": "code",
   "execution_count": 2,
   "metadata": {
    "id": "7ensNajuib1j"
   },
   "outputs": [],
   "source": [
    "import pandas as pd\n",
    "import numpy as np\n",
    "import re\n",
    "import os\n",
    "import pathlib\n",
    "import nltk\n",
    "import contractions\n",
    "import demoji\n",
    "import matplotlib.pyplot as plt\n",
    "\n",
    "from nltk import TweetTokenizer\n",
    "\n",
    "import tensorflow as tf\n",
    "import tensorflow_addons as tfa\n",
    "\n",
    "from tensorflow import keras\n",
    "from keras.preprocessing.text import Tokenizer\n",
    "from keras.preprocessing.sequence import pad_sequences\n",
    "from keras import Model\n",
    "from keras.layers import Input, Dense, Dropout, Embedding\n",
    "from keras.layers import Bidirectional, LSTM, Concatenate, concatenate\n",
    "from keras.layers import Conv1D, SpatialDropout1D, GlobalMaxPool1D\n",
    "from keras.layers import GlobalMaxPooling1D, MaxPool1D, Attention, GlobalAveragePooling1D\n",
    "from keras_self_attention import SeqSelfAttention\n",
    "from keras.callbacks import EarlyStopping, ModelCheckpoint\n",
    "from keras.utils.vis_utils import plot_model\n",
    "\n",
    "from tcn import TCN, tcn_full_summary\n",
    "\n",
    "from collections import Counter\n",
    "from collections import defaultdict\n",
    "\n",
    "from sklearn.utils.class_weight import compute_class_weight\n",
    "from sklearn.preprocessing import OneHotEncoder\n",
    "from sklearn.metrics import classification_report, f1_score"
   ]
  },
  {
   "cell_type": "code",
   "execution_count": 3,
   "metadata": {
    "id": "51u93AomDEKs"
   },
   "outputs": [],
   "source": [
    "def display_history(history):\n",
    "    loss_training = history.history['loss']\n",
    "    f1_training = history.history['f1_score']\n",
    "\n",
    "    loss_val = history.history['val_loss']\n",
    "    f1_val = history.history['val_f1_score']\n",
    "\n",
    "    # Visualize the behavior of the loss\n",
    "    plt.plot(loss_training)\n",
    "    plt.plot(loss_val)\n",
    "    plt.grid()\n",
    "    plt.title('Loss during training')\n",
    "    plt.xlabel('Epoch')\n",
    "    plt.legend(['Training', 'Validation'])\n",
    "    plt.show()\n",
    "\n",
    "    # and of the f1-score\n",
    "    plt.plot(f1_training)\n",
    "    plt.plot(f1_val)\n",
    "    plt.grid()\n",
    "    plt.title('F1 score during training')\n",
    "    plt.xlabel('Epoch')\n",
    "    plt.legend(['Training', 'Validation'])\n",
    "    plt.show()"
   ]
  },
  {
   "cell_type": "markdown",
   "metadata": {
    "id": "ay_5yRpMe5r5"
   },
   "source": [
    "*Preprocessing for Gloove imported from https://www.kaggle.com/code/amackcrane/python-version-of-glove-twitter-preprocess-script/script*"
   ]
  },
  {
   "cell_type": "code",
   "execution_count": 4,
   "metadata": {
    "id": "U3Z-4BJuTR9y"
   },
   "outputs": [],
   "source": [
    "FLAGS = re.MULTILINE | re.DOTALL\n",
    "\n",
    "def hashtag(text):\n",
    "    text = text.group()\n",
    "    hashtag_body = text[1:]\n",
    "    if hashtag_body.isupper():\n",
    "        result = \"<hashtag> {} <allcaps>\".format(hashtag_body.lower())\n",
    "    else:\n",
    "        result = \" \".join([\"<hashtag>\"] + re.split(r\"(?=[A-Z])\", hashtag_body, flags=FLAGS))\n",
    "    return result\n",
    "\n",
    "def allcaps(text):\n",
    "    text = text.group()\n",
    "    return text.lower() + \" <allcaps> \" # amackcrane added trailing space\n",
    "\n",
    "\n",
    "def gloove_cleaner(text):\n",
    "    # Different regex parts for smiley faces\n",
    "    eyes = r\"[8:=;]\"\n",
    "    nose = r\"['`\\-]?\"\n",
    "\n",
    "    # function so code less repetitive\n",
    "    def re_sub(pattern, repl):\n",
    "        return re.sub(pattern, repl, text, flags=FLAGS)\n",
    "\n",
    "    text = re_sub(r\"https?:\\/\\/\\S+\\b|www\\.(\\w+\\.)+\\S*\", \"<url>\")\n",
    "    text = re_sub(r\"@\\w+\", \"<user>\")\n",
    "    text = re_sub(r\"{}{}[)dD]+|[)dD]+{}{}\".format(eyes, nose, nose, eyes), \"<smile>\")\n",
    "    text = re_sub(r\"{}{}p+\".format(eyes, nose), \"<lolface>\")\n",
    "    text = re_sub(r\"{}{}\\(+|\\)+{}{}\".format(eyes, nose, nose, eyes), \"<sadface>\")\n",
    "    text = re_sub(r\"{}{}[\\/|l*]\".format(eyes, nose), \"<neutralface>\")\n",
    "    text = re_sub(r\"/\",\" / \")\n",
    "    text = re_sub(r\"<3\",\"<heart>\")\n",
    "    text = re_sub(r\"[-+]?[.\\d]*[\\d]+[:,.\\d]*\", \"<number>\")\n",
    "    text = re_sub(r\"#\\w+\", hashtag)  # amackcrane edit\n",
    "    text = re_sub(r\"([!?.]){2,}\", r\"\\1 <repeat>\")\n",
    "    text = re_sub(r\"\\b(\\S*?)(.)\\2{2,}\\b\", r\"\\1\\2 <elong>\")\n",
    "\n",
    "    # amackcrane additions\n",
    "    text = re_sub(r\"([a-zA-Z<>()])([?!.:;,])\", r\"\\1 \\2\")\n",
    "    text = re_sub(r\"\\(([a-zA-Z<>]+)\\)\", r\"( \\1 )\")\n",
    "    text = re_sub(r\"  \", r\" \")\n",
    "    text = re_sub(r\" ([A-Z]){2,} \", allcaps)\n",
    "    \n",
    "    return text.lower()"
   ]
  },
  {
   "cell_type": "code",
   "execution_count": 12,
   "metadata": {
    "id": "hEuDb538k32h"
   },
   "outputs": [],
   "source": [
    "def cleaner(sentence):\n",
    "\n",
    "  # EXPANDING THE CONTRACTED FORMS\n",
    "  expanded_forms = []   \n",
    "  for word in sentence.split():\n",
    "    expanded_forms.append(contractions.fix(word))  \n",
    "  sentence = ' '.join(expanded_forms)\n",
    "\n",
    "  # CONVERT EMOJI TO TEXT\n",
    "  sentence = demoji.replace(sentence, '')\n",
    "\n",
    "  # SAXON GENITIVE\n",
    "  sentence = re.sub(\"'s\", '', sentence)\n",
    "\n",
    "  # GLOOVE CLEANING\n",
    "  sentence = gloove_cleaner(sentence)\n",
    "\n",
    "  # TOKENIZER OF TWITTER\n",
    "  tknzr = TweetTokenizer(strip_handles=True, reduce_len=True)\n",
    "  sentence = tknzr.tokenize(sentence)\n",
    "\n",
    "  return sentence"
   ]
  },
  {
   "cell_type": "code",
   "execution_count": 6,
   "metadata": {
    "id": "k_ZH9v2KD6Zy"
   },
   "outputs": [],
   "source": [
    "def prepare_targets(train, test, val):\n",
    "\n",
    "\tohe = OneHotEncoder(sparse = False, dtype='uint8')\n",
    " \n",
    "\tohe.fit(train)\n",
    "\ttrain_enc = ohe.transform(train)\n",
    "\ttest_enc = ohe.transform(test)\n",
    "\tval_enc = ohe.transform(val)\n",
    " \n",
    "\treturn train_enc, test_enc, val_enc"
   ]
  },
  {
   "cell_type": "markdown",
   "metadata": {
    "id": "xdnOC9RZEMwA"
   },
   "source": [
    "*Load dataset*"
   ]
  },
  {
   "cell_type": "code",
   "execution_count": 8,
   "metadata": {
    "colab": {
     "base_uri": "https://localhost:8080/"
    },
    "id": "VWgmTouqBC0Q",
    "outputId": "2e42853f-d566-43f9-a75f-df1297965a9a"
   },
   "outputs": [
    {
     "name": "stdout",
     "output_type": "stream",
     "text": [
      "Archive:  data.zip\n",
      "  inflating: test_ekmann.csv         \n",
      "  inflating: train_ekmann.csv        \n",
      "  inflating: val_ekmann.csv          \n"
     ]
    }
   ],
   "source": [
    "!unzip data.zip"
   ]
  },
  {
   "cell_type": "markdown",
   "metadata": {
    "id": "H_DKYFKNdQe2"
   },
   "source": [
    "The dataset is composed of 58k texts labelled manually to assign them an emotion:\n",
    "- Anger\n",
    "- Digust\n",
    "- Fear\n",
    "- Joy\n",
    "- Sadness\n",
    "- Surprise\n",
    "- Neutral\n",
    "\n",
    "The dataset is unbalanced, but techniques of data augmentation or random oversampling didn't obtain good results. \n",
    "\n",
    "For this reason I decided not to adapt any strategy to make the dataset more balanced."
   ]
  },
  {
   "cell_type": "code",
   "execution_count": 13,
   "metadata": {
    "id": "z6SmR84uigFz"
   },
   "outputs": [],
   "source": [
    "train = pd.read_csv('train_ekmann.csv')\n",
    "test = pd.read_csv('test_ekmann.csv')\n",
    "val = pd.read_csv('val_ekmann.csv')"
   ]
  },
  {
   "cell_type": "markdown",
   "metadata": {
    "id": "MyHLl7fuETYW"
   },
   "source": [
    "## Pre-processing "
   ]
  },
  {
   "cell_type": "markdown",
   "metadata": {
    "id": "XaMEcNEuVmCN"
   },
   "source": [
    "Some preprocessing step have been performed:\n",
    "- Expansion of the contracted forms;\n",
    "- Conversion of emoji to text;\n",
    "- Removal of the Saxon genitive;\n",
    "- Specific preprocessing for Gloove;\n",
    "- Specific tokenization for twitter text."
   ]
  },
  {
   "cell_type": "code",
   "execution_count": 14,
   "metadata": {
    "id": "X2nNuGPxG5CE"
   },
   "outputs": [],
   "source": [
    "for df in [train, test, val]:\n",
    "  df['Text'] = df.apply(lambda row: cleaner(row['Text']), axis=1)"
   ]
  },
  {
   "cell_type": "markdown",
   "metadata": {
    "id": "FSzrRoOBiRZB"
   },
   "source": [
    "*Counting the number of words*"
   ]
  },
  {
   "cell_type": "code",
   "execution_count": 15,
   "metadata": {
    "colab": {
     "base_uri": "https://localhost:8080/"
    },
    "id": "slvlLVapXw-9",
    "outputId": "91befae3-9da4-4077-dd46-193d29dd94b3"
   },
   "outputs": [
    {
     "name": "stdout",
     "output_type": "stream",
     "text": [
      "Number of words in vocabulary:  26246\n"
     ]
    }
   ],
   "source": [
    "train_c = Counter()\n",
    "train['Text'].apply(train_c.update)\n",
    "\n",
    "vocab_size = len(train_c)\n",
    "\n",
    "print(\"Number of words in vocabulary: \", vocab_size)"
   ]
  },
  {
   "cell_type": "code",
   "execution_count": 16,
   "metadata": {
    "id": "j9Q6Ob8VBv6_"
   },
   "outputs": [],
   "source": [
    "x_train = train[['Text']]\n",
    "y_train = train[['Emotion']]\n",
    "x_test = test[['Text']]\n",
    "y_test = test[['Emotion']]\n",
    "x_val = val[['Text']]\n",
    "y_val = val[['Emotion']]"
   ]
  },
  {
   "cell_type": "markdown",
   "metadata": {
    "id": "Qn13BvZvirPl"
   },
   "source": [
    "- The sentences have been transformed into sequences of values in order to be able to give them in input to the model"
   ]
  },
  {
   "cell_type": "code",
   "execution_count": 17,
   "metadata": {
    "id": "nUoZF5MNIG-z"
   },
   "outputs": [],
   "source": [
    "trunc_type='post'\n",
    "padding_type='post'\n",
    "oov_tok = \"<OOV>\"\n",
    "\n",
    "max_len = 200\n",
    "\n",
    "train_sentences = x_train['Text'].to_numpy()\n",
    "test_sentences = x_test['Text'].to_numpy()\n",
    "val_sentences = x_val['Text'].to_numpy()\n",
    "\n",
    "tokenizer = Tokenizer(oov_token = oov_tok, num_words = vocab_size)\n",
    "tokenizer.fit_on_texts(train_sentences)\n",
    "\n",
    "training_sequences = tokenizer.texts_to_sequences(train_sentences)\n",
    "testing_sequences = tokenizer.texts_to_sequences(test_sentences)\n",
    "validation_sequences = tokenizer.texts_to_sequences(val_sentences)\n",
    "\n",
    "x_train_vec = pad_sequences(training_sequences, maxlen=max_len, padding = padding_type, truncating = trunc_type)\n",
    "x_val_vec = pad_sequences(validation_sequences, maxlen=max_len, padding = padding_type, truncating = trunc_type)\n",
    "x_test_vec = pad_sequences(testing_sequences, maxlen=max_len, padding = padding_type, truncating = trunc_type)"
   ]
  },
  {
   "cell_type": "markdown",
   "metadata": {
    "id": "cazgpjsUjLGM"
   },
   "source": [
    "*One-hot encoding*"
   ]
  },
  {
   "cell_type": "code",
   "execution_count": 18,
   "metadata": {
    "id": "jbAPQbE7EFOO"
   },
   "outputs": [],
   "source": [
    "y_train_enc, y_test_enc, y_val_enc = prepare_targets(y_train, y_test, y_val)"
   ]
  },
  {
   "cell_type": "markdown",
   "metadata": {
    "id": "qeql1pdrJYGQ"
   },
   "source": [
    "## Word Embedding"
   ]
  },
  {
   "cell_type": "markdown",
   "metadata": {
    "id": "7rHIYTK0V72a"
   },
   "source": [
    "I used **Gloove** for twitter text with 200 as dimension of the vectors.\n",
    "\n",
    "**GloVe** is an unsupervised learning algorithm for obtaining vector representations for words. Training is performed on aggregated global word-word co-occurrence statistics from a corpus, and the resulting representations showcase interesting linear substructures of the word vector space."
   ]
  },
  {
   "cell_type": "code",
   "execution_count": 19,
   "metadata": {
    "colab": {
     "base_uri": "https://localhost:8080/"
    },
    "id": "AOjQixqqje8D",
    "outputId": "a120fe02-54e3-4118-fc7f-e9b6fe9680f2"
   },
   "outputs": [
    {
     "name": "stdout",
     "output_type": "stream",
     "text": [
      "--2022-06-30 08:27:46--  https://nlp.stanford.edu/data/glove.twitter.27B.zip\n",
      "Resolving nlp.stanford.edu (nlp.stanford.edu)... 171.64.67.140\n",
      "Connecting to nlp.stanford.edu (nlp.stanford.edu)|171.64.67.140|:443... connected.\n",
      "HTTP request sent, awaiting response... 301 Moved Permanently\n",
      "Location: https://downloads.cs.stanford.edu/nlp/data/glove.twitter.27B.zip [following]\n",
      "--2022-06-30 08:27:46--  https://downloads.cs.stanford.edu/nlp/data/glove.twitter.27B.zip\n",
      "Resolving downloads.cs.stanford.edu (downloads.cs.stanford.edu)... 171.64.64.22\n",
      "Connecting to downloads.cs.stanford.edu (downloads.cs.stanford.edu)|171.64.64.22|:443... connected.\n",
      "HTTP request sent, awaiting response... 200 OK\n",
      "Length: 1520408563 (1.4G) [application/zip]\n",
      "Saving to: ‘glove.twitter.27B.zip’\n",
      "\n",
      "glove.twitter.27B.z 100%[===================>]   1.42G  5.04MB/s    in 4m 50s  \n",
      "\n",
      "2022-06-30 08:32:36 (5.00 MB/s) - ‘glove.twitter.27B.zip’ saved [1520408563/1520408563]\n",
      "\n"
     ]
    }
   ],
   "source": [
    "!wget https://nlp.stanford.edu/data/glove.twitter.27B.zip\n",
    "!unzip -q glove.twitter.27B.zip"
   ]
  },
  {
   "cell_type": "code",
   "execution_count": 20,
   "metadata": {
    "colab": {
     "base_uri": "https://localhost:8080/"
    },
    "id": "J_LSCo_Hk9bp",
    "outputId": "fd349511-16cd-4ea1-eb73-4a81fa115760"
   },
   "outputs": [
    {
     "name": "stdout",
     "output_type": "stream",
     "text": [
      "Found 1193514 word vectors.\n"
     ]
    }
   ],
   "source": [
    "path_to_glove_file = os.path.join(\n",
    "    os.path.expanduser(\"~\"), '/content/glove.twitter.27B.200d.txt')\n",
    "\n",
    "embeddings_index = {}\n",
    "f = open(path_to_glove_file)\n",
    "for line in f:\n",
    "    values = line.split()\n",
    "    word = values[0]\n",
    "    coefs = np.asarray(values[1:], dtype='float32')\n",
    "    embeddings_index[word] = coefs\n",
    "f.close()\n",
    "\n",
    "print('Found %s word vectors.' % len(embeddings_index))"
   ]
  },
  {
   "cell_type": "markdown",
   "metadata": {
    "id": "x_7hV8gnkj7V"
   },
   "source": [
    "I created the embedding matrix, starting from the Gloove vectors, necessary for the weight of the embedding layer."
   ]
  },
  {
   "cell_type": "code",
   "execution_count": 21,
   "metadata": {
    "id": "ZFtBHh3wmUgl"
   },
   "outputs": [],
   "source": [
    "word_index = tokenizer.word_index\n",
    "embedding_matrix = np.zeros((len(word_index) + 1, max_len))\n",
    "\n",
    "for word, index in word_index.items():\n",
    "    embedding_vector = embeddings_index.get(word)\n",
    "    if embedding_vector is not None:\n",
    "        embedding_matrix[index] = embedding_vector"
   ]
  },
  {
   "cell_type": "markdown",
   "metadata": {
    "id": "MkS5XBdeMG8W"
   },
   "source": [
    "# First Model 1"
   ]
  },
  {
   "cell_type": "markdown",
   "metadata": {
    "id": "505ijYvdWCkT"
   },
   "source": [
    "Searching around I found an interesting paper$^{1}$ on Emotion Detection task, so I tried to implement the network used to the comparison of word-embedding in the paper.\n",
    "\n",
    "The model applied in this study use the long-short term memory networks (LSTM) in their bidirectional variation and the convolutional neural netowrks (CNN) mediated by a max pooling approach. Furthermore they use a self-attention layer to allow the system to capture distant relationships among words with a different weight depending theirs contribute for classification.\n",
    "\n"
   ]
  },
  {
   "cell_type": "markdown",
   "metadata": {
    "id": "nRBnsvbDgzMg"
   },
   "source": [
    "In particural the architecture is the following:\n",
    "- the first layer is an **embedding layer** that has the pre-trained Gloove embedding matrix;\n",
    "- the second layer is a **Bi-LSTM layer** that considers the intrinsic sequential relationship between the terms of a sentence; \n",
    "- the third layer is a **Self-Attention layer** that provides the model ability to weight the vectors of single words of the sentence differently, according to the similarity of the neighboring tokens;\n",
    "- the fourth layer is a **CNN layer**, ideal for working on data with a shape of grid; the result is a grid more dense and smaller of the previous that captures the hidden relations among cells that fall in the kernel dimension;\n",
    "- it has been applied a between the output of the **CNN layer** and the output of the previous **Bi-LSTM layer** in order to letting the model to better conceptualize both local and long-term features;\n",
    "- then there are operations of **max pooling** followed by operations of **global average pooling**;\n",
    "- finally there are **dense layers** that estimates the probability distribution of each of the emotional classes of the dataset."
   ]
  },
  {
   "cell_type": "markdown",
   "metadata": {
    "id": "g9YEgUV8zqsR"
   },
   "source": [
    "I added some regularizer into the self attention layer in order to prevent overfitting"
   ]
  },
  {
   "cell_type": "code",
   "execution_count": 22,
   "metadata": {
    "id": "RUBWTEl-mWbN"
   },
   "outputs": [],
   "source": [
    "def build_first_model(name):\n",
    "\n",
    "  inputs = Input((max_len))\n",
    "  emb = Embedding(input_dim = len(word_index) + 1, \n",
    "                  output_dim = max_len,\n",
    "                  weights = [embedding_matrix],\n",
    "                  input_length = max_len,\n",
    "                  trainable = True,\n",
    "                  name = 'embedding')(inputs)\n",
    "  l1 = Bidirectional(LSTM(200, return_sequences = True, dropout=0.3, activation='tanh'))(emb)\n",
    "  l2 = SeqSelfAttention(attention_type=SeqSelfAttention.ATTENTION_TYPE_MUL,\n",
    "                        kernel_regularizer=keras.regularizers.l2(1e-4),\n",
    "                        bias_regularizer=keras.regularizers.l1(1e-4),\n",
    "                        attention_regularizer_weight=1e-4,\n",
    "                        attention_width=15,\n",
    "                        name='Attention')(l1)\n",
    "  l3 = Conv1D(400, 5, activation='relu')(l2)\n",
    "  l4 = MaxPool1D(2)(l3)\n",
    "  l5 = Dropout(0.2)(l4)\n",
    "  concatted = Concatenate(axis=1)([l1, l5])\n",
    "  l6 = GlobalMaxPool1D()(concatted)\n",
    "  l7 = Dense(100)(l6)\n",
    "  l8 = Dropout(0.2)(l7)\n",
    "  output = Dense(y_train_enc.shape[1], activation = 'softmax')(l8)\n",
    "\n",
    "  model = Model(inputs = inputs, outputs = output, name = name)\n",
    "\n",
    "  return model"
   ]
  },
  {
   "cell_type": "markdown",
   "metadata": {
    "id": "JaGD-YKGMU_P"
   },
   "source": [
    "I used the Adam optimizer and the categorical crossentropy as loss because we have a classification task.\n"
   ]
  },
  {
   "cell_type": "code",
   "execution_count": 76,
   "metadata": {
    "colab": {
     "base_uri": "https://localhost:8080/"
    },
    "id": "CAK3SWbMMCaC",
    "outputId": "fb61c328-4b67-4394-8988-dbb00dc99a0d"
   },
   "outputs": [
    {
     "name": "stdout",
     "output_type": "stream",
     "text": [
      "Model: \"first_model\"\n",
      "__________________________________________________________________________________________________\n",
      " Layer (type)                   Output Shape         Param #     Connected to                     \n",
      "==================================================================================================\n",
      " input_6 (InputLayer)           [(None, 200)]        0           []                               \n",
      "                                                                                                  \n",
      " embedding (Embedding)          (None, 200, 200)     5249600     ['input_6[0][0]']                \n",
      "                                                                                                  \n",
      " bidirectional_5 (Bidirectional  (None, 200, 400)    641600      ['embedding[0][0]']              \n",
      " )                                                                                                \n",
      "                                                                                                  \n",
      " Attention (SeqSelfAttention)   (None, 200, 400)     160001      ['bidirectional_5[0][0]']        \n",
      "                                                                                                  \n",
      " conv1d_5 (Conv1D)              (None, 196, 400)     800400      ['Attention[0][0]']              \n",
      "                                                                                                  \n",
      " max_pooling1d_5 (MaxPooling1D)  (None, 98, 400)     0           ['conv1d_5[0][0]']               \n",
      "                                                                                                  \n",
      " dropout_10 (Dropout)           (None, 98, 400)      0           ['max_pooling1d_5[0][0]']        \n",
      "                                                                                                  \n",
      " concatenate_5 (Concatenate)    (None, 298, 400)     0           ['bidirectional_5[0][0]',        \n",
      "                                                                  'dropout_10[0][0]']             \n",
      "                                                                                                  \n",
      " global_max_pooling1d_5 (Global  (None, 400)         0           ['concatenate_5[0][0]']          \n",
      " MaxPooling1D)                                                                                    \n",
      "                                                                                                  \n",
      " dense_10 (Dense)               (None, 100)          40100       ['global_max_pooling1d_5[0][0]'] \n",
      "                                                                                                  \n",
      " dropout_11 (Dropout)           (None, 100)          0           ['dense_10[0][0]']               \n",
      "                                                                                                  \n",
      " dense_11 (Dense)               (None, 7)            707         ['dropout_11[0][0]']             \n",
      "                                                                                                  \n",
      "==================================================================================================\n",
      "Total params: 6,892,408\n",
      "Trainable params: 6,892,408\n",
      "Non-trainable params: 0\n",
      "__________________________________________________________________________________________________\n"
     ]
    }
   ],
   "source": [
    "first_model = build_first_model('first_model')\n",
    "first_model.compile(loss = 'categorical_crossentropy', \n",
    "                      optimizer = 'adam', \n",
    "                      metrics = tfa.metrics.F1Score(num_classes = y_train_enc.shape[1], average='macro'))\n",
    "first_model.summary()"
   ]
  },
  {
   "cell_type": "markdown",
   "metadata": {
    "id": "WAjlFYytz1CQ"
   },
   "source": [
    "### Structure"
   ]
  },
  {
   "cell_type": "code",
   "execution_count": 52,
   "metadata": {
    "colab": {
     "base_uri": "https://localhost:8080/",
     "height": 824
    },
    "id": "uRuvNI9Wn19Q",
    "outputId": "0c7f4368-5417-4bba-ec24-655cbeb1611f"
   },
   "outputs": [
    {
     "data": {
      "image/png": "[encoded data removed]",
      "text/plain": [
       "<IPython.core.display.Image object>"
      ]
     },
     "execution_count": 52,
     "metadata": {},
     "output_type": "execute_result"
    }
   ],
   "source": [
    "plot_model(first_model, show_shapes=True, show_layer_names=False, dpi=60)"
   ]
  },
  {
   "cell_type": "markdown",
   "metadata": {
    "id": "FUqvtXGMcr8O"
   },
   "source": [
    "## Fine tuning"
   ]
  },
  {
   "cell_type": "markdown",
   "metadata": {
    "id": "TN73YT5cqtnE"
   },
   "source": [
    "I decided to train the entire network for 1 epoch in order to fine tune the pre-trained embedding layer."
   ]
  },
  {
   "cell_type": "code",
   "execution_count": 77,
   "metadata": {
    "colab": {
     "base_uri": "https://localhost:8080/"
    },
    "id": "4haBV3rHcrG2",
    "outputId": "afd6bacc-1cb8-4a30-87c7-63415f04f93a"
   },
   "outputs": [
    {
     "name": "stdout",
     "output_type": "stream",
     "text": [
      "170/170 [==============================] - ETA: 0s - loss: 1.2228 - f1_score: 0.3738\n",
      "Epoch 1: val_loss improved from inf to 1.00299, saving model to ./fine_tuning.h5\n",
      "170/170 [==============================] - 63s 246ms/step - loss: 1.2228 - f1_score: 0.3738 - val_loss: 1.0030 - val_f1_score: 0.5379\n"
     ]
    },
    {
     "data": {
      "text/plain": [
       "<keras.callbacks.History at 0x7f5f0e2cb210>"
      ]
     },
     "execution_count": 77,
     "metadata": {},
     "output_type": "execute_result"
    }
   ],
   "source": [
    "ft_mc = ModelCheckpoint('./fine_tuning.h5', \n",
    "                      monitor = 'val_loss', \n",
    "                      mode = 'min', \n",
    "                      verbose = 1, \n",
    "                      save_best_only = True)\n",
    "\n",
    "first_model.fit(x_train_vec, y_train_enc,\n",
    "                epochs = 1, batch_size = 256,\n",
    "                validation_data = (x_val_vec,y_val_enc),\n",
    "                verbose = 1,\n",
    "                callbacks = ft_mc)"
   ]
  },
  {
   "cell_type": "markdown",
   "metadata": {
    "id": "wczMvxKNuM4K"
   },
   "source": [
    "*Set training of the embedding layer to False*"
   ]
  },
  {
   "cell_type": "code",
   "execution_count": 78,
   "metadata": {
    "colab": {
     "base_uri": "https://localhost:8080/"
    },
    "id": "Jc-AEEbktNr8",
    "outputId": "0cafcd5a-b4e0-4f35-cfa5-91722b266b58"
   },
   "outputs": [
    {
     "name": "stdout",
     "output_type": "stream",
     "text": [
      "Model: \"first_model\"\n",
      "__________________________________________________________________________________________________\n",
      " Layer (type)                   Output Shape         Param #     Connected to                     \n",
      "==================================================================================================\n",
      " input_6 (InputLayer)           [(None, 200)]        0           []                               \n",
      "                                                                                                  \n",
      " embedding (Embedding)          (None, 200, 200)     5249600     ['input_6[0][0]']                \n",
      "                                                                                                  \n",
      " bidirectional_5 (Bidirectional  (None, 200, 400)    641600      ['embedding[0][0]']              \n",
      " )                                                                                                \n",
      "                                                                                                  \n",
      " Attention (SeqSelfAttention)   (None, 200, 400)     160001      ['bidirectional_5[0][0]']        \n",
      "                                                                                                  \n",
      " conv1d_5 (Conv1D)              (None, 196, 400)     800400      ['Attention[0][0]']              \n",
      "                                                                                                  \n",
      " max_pooling1d_5 (MaxPooling1D)  (None, 98, 400)     0           ['conv1d_5[0][0]']               \n",
      "                                                                                                  \n",
      " dropout_10 (Dropout)           (None, 98, 400)      0           ['max_pooling1d_5[0][0]']        \n",
      "                                                                                                  \n",
      " concatenate_5 (Concatenate)    (None, 298, 400)     0           ['bidirectional_5[0][0]',        \n",
      "                                                                  'dropout_10[0][0]']             \n",
      "                                                                                                  \n",
      " global_max_pooling1d_5 (Global  (None, 400)         0           ['concatenate_5[0][0]']          \n",
      " MaxPooling1D)                                                                                    \n",
      "                                                                                                  \n",
      " dense_10 (Dense)               (None, 100)          40100       ['global_max_pooling1d_5[0][0]'] \n",
      "                                                                                                  \n",
      " dropout_11 (Dropout)           (None, 100)          0           ['dense_10[0][0]']               \n",
      "                                                                                                  \n",
      " dense_11 (Dense)               (None, 7)            707         ['dropout_11[0][0]']             \n",
      "                                                                                                  \n",
      "==================================================================================================\n",
      "Total params: 6,892,408\n",
      "Trainable params: 1,642,808\n",
      "Non-trainable params: 5,249,600\n",
      "__________________________________________________________________________________________________\n"
     ]
    }
   ],
   "source": [
    "first_model.layers[1].trainable = False\n",
    "first_model.compile(loss = 'categorical_crossentropy', \n",
    "                      optimizer = 'adam', \n",
    "                      metrics = tfa.metrics.F1Score(num_classes = y_train_enc.shape[1], average='macro'))\n",
    "first_model.summary()"
   ]
  },
  {
   "cell_type": "markdown",
   "metadata": {
    "id": "z1DV_El8uUFN"
   },
   "source": [
    "*Loading weights fine tuned*"
   ]
  },
  {
   "cell_type": "code",
   "execution_count": 79,
   "metadata": {
    "id": "J9Y_iciUdz-0"
   },
   "outputs": [],
   "source": [
    "first_model.load_weights('./fine_tuning.h5')"
   ]
  },
  {
   "cell_type": "markdown",
   "metadata": {
    "id": "VCyaHSUkuJbX"
   },
   "source": [
    "## Training"
   ]
  },
  {
   "cell_type": "markdown",
   "metadata": {
    "id": "SJ9GxFR3qGzl"
   },
   "source": [
    "Two callbacks were used:\n",
    "- **Early stopping**: callback that stops the training when the model starts to overfit and it restores the best weights based on the value of the *macro f1 score* on the validation set, since you want to maximize it;\n",
    "- **ModelCheckpoint**: callback that saves the best weights based on the value of the *macro f1 score* on the validation set.\n",
    "\n",
    "The value of epochs is 20 and the value of batch size is equal to 64.\n",
    "\n",
    "The values of parameters have been tuned during some experiments."
   ]
  },
  {
   "cell_type": "code",
   "execution_count": 80,
   "metadata": {
    "id": "v5CLdoRGe8wJ"
   },
   "outputs": [],
   "source": [
    "early1 = EarlyStopping(monitor = \"val_f1_score\", \n",
    "                         mode = \"max\", \n",
    "                         min_delta = 0, \n",
    "                         patience=4, \n",
    "                         verbose = 2,\n",
    "                         restore_best_weights = True)\n",
    "\n",
    "mc1 = ModelCheckpoint('./first_model.h5', \n",
    "                      monitor = 'val_f1_score', \n",
    "                      mode = 'max', \n",
    "                      verbose = 1, \n",
    "                      save_best_only = True)"
   ]
  },
  {
   "cell_type": "code",
   "execution_count": 81,
   "metadata": {
    "colab": {
     "base_uri": "https://localhost:8080/"
    },
    "id": "_3L3Vhjd28AB",
    "outputId": "600f827f-3a08-4b60-8d61-379d40eb9979"
   },
   "outputs": [
    {
     "name": "stdout",
     "output_type": "stream",
     "text": [
      "Epoch 1/20\n",
      "678/679 [============================>.] - ETA: 0s - loss: 1.0032 - f1_score: 0.5319\n",
      "Epoch 1: val_f1_score improved from -inf to 0.58142, saving model to ./first_model.h5\n",
      "679/679 [==============================] - 53s 72ms/step - loss: 1.0032 - f1_score: 0.5319 - val_loss: 0.9459 - val_f1_score: 0.5814\n",
      "Epoch 2/20\n",
      "678/679 [============================>.] - ETA: 0s - loss: 0.9345 - f1_score: 0.5626\n",
      "Epoch 2: val_f1_score did not improve from 0.58142\n",
      "679/679 [==============================] - 48s 71ms/step - loss: 0.9345 - f1_score: 0.5625 - val_loss: 0.9370 - val_f1_score: 0.5503\n",
      "Epoch 3/20\n",
      "678/679 [============================>.] - ETA: 0s - loss: 0.9067 - f1_score: 0.5724\n",
      "Epoch 3: val_f1_score improved from 0.58142 to 0.58522, saving model to ./first_model.h5\n",
      "679/679 [==============================] - 48s 71ms/step - loss: 0.9067 - f1_score: 0.5723 - val_loss: 0.9279 - val_f1_score: 0.5852\n",
      "Epoch 4/20\n",
      "678/679 [============================>.] - ETA: 0s - loss: 0.8758 - f1_score: 0.5935\n",
      "Epoch 4: val_f1_score improved from 0.58522 to 0.60557, saving model to ./first_model.h5\n",
      "679/679 [==============================] - 48s 71ms/step - loss: 0.8757 - f1_score: 0.5935 - val_loss: 0.9260 - val_f1_score: 0.6056\n",
      "Epoch 5/20\n",
      "678/679 [============================>.] - ETA: 0s - loss: 0.8481 - f1_score: 0.6095\n",
      "Epoch 5: val_f1_score did not improve from 0.60557\n",
      "679/679 [==============================] - 48s 71ms/step - loss: 0.8481 - f1_score: 0.6095 - val_loss: 0.9310 - val_f1_score: 0.5976\n",
      "Epoch 6/20\n",
      "678/679 [============================>.] - ETA: 0s - loss: 0.8228 - f1_score: 0.6299\n",
      "Epoch 6: val_f1_score did not improve from 0.60557\n",
      "679/679 [==============================] - 48s 71ms/step - loss: 0.8229 - f1_score: 0.6299 - val_loss: 0.9250 - val_f1_score: 0.5947\n",
      "Epoch 7/20\n",
      "678/679 [============================>.] - ETA: 0s - loss: 0.7957 - f1_score: 0.6397\n",
      "Epoch 7: val_f1_score did not improve from 0.60557\n",
      "679/679 [==============================] - 48s 71ms/step - loss: 0.7957 - f1_score: 0.6396 - val_loss: 0.9266 - val_f1_score: 0.5969\n",
      "Epoch 8/20\n",
      "678/679 [============================>.] - ETA: 0s - loss: 0.7640 - f1_score: 0.6607\n",
      "Epoch 8: val_f1_score did not improve from 0.60557\n",
      "Restoring model weights from the end of the best epoch: 4.\n",
      "679/679 [==============================] - 48s 71ms/step - loss: 0.7639 - f1_score: 0.6607 - val_loss: 0.9755 - val_f1_score: 0.5852\n",
      "Epoch 8: early stopping\n"
     ]
    }
   ],
   "source": [
    "history = first_model.fit(x_train_vec, y_train_enc,\n",
    "                    epochs = 20, batch_size = 64,\n",
    "                    validation_data = (x_val_vec,y_val_enc),\n",
    "                    verbose = 1,\n",
    "                    callbacks = [mc1, early1])"
   ]
  },
  {
   "cell_type": "markdown",
   "metadata": {
    "id": "3w51nb52M3Db"
   },
   "source": [
    "## Evaluation "
   ]
  },
  {
   "cell_type": "code",
   "execution_count": 82,
   "metadata": {
    "id": "Jwwv1wWoQIFF"
   },
   "outputs": [],
   "source": [
    "y_pred = np.argmax(first_model.predict(x_test_vec), axis = 1)\n",
    "y_true = np.argmax(y_test_enc, axis = 1)"
   ]
  },
  {
   "cell_type": "code",
   "execution_count": 84,
   "metadata": {
    "colab": {
     "base_uri": "https://localhost:8080/",
     "height": 573
    },
    "id": "CRtRTIc4Dpb7",
    "outputId": "cc8b2fb8-3c83-434b-c813-d7b9fcdf9d15"
   },
   "outputs": [
    {
     "data": {
      "image/png": "[encoded data removed]",
      "text/plain": [
       "<Figure size 432x288 with 1 Axes>"
      ]
     },
     "metadata": {
      "needs_background": "light"
     },
     "output_type": "display_data"
    },
    {
     "data": {
      "image/png": "[encoded data removed]",
      "text/plain": [
       "<Figure size 432x288 with 1 Axes>"
      ]
     },
     "metadata": {
      "needs_background": "light"
     },
     "output_type": "display_data"
    }
   ],
   "source": [
    "display_history(history)"
   ]
  },
  {
   "cell_type": "code",
   "execution_count": 83,
   "metadata": {
    "colab": {
     "base_uri": "https://localhost:8080/"
    },
    "id": "HXPfec4FQQ7O",
    "outputId": "2bf7c860-5793-4dc8-b540-f5b15fcef1a1"
   },
   "outputs": [
    {
     "name": "stdout",
     "output_type": "stream",
     "text": [
      "              precision    recall  f1-score   support\n",
      "\n",
      "           0       0.49      0.50      0.50       572\n",
      "           1       0.51      0.53      0.52       116\n",
      "           2       0.68      0.64      0.66        81\n",
      "           3       0.75      0.82      0.79      1978\n",
      "           4       0.65      0.58      0.61      1648\n",
      "           5       0.69      0.48      0.57       355\n",
      "           6       0.57      0.64      0.61       677\n",
      "\n",
      "    accuracy                           0.66      5427\n",
      "   macro avg       0.62      0.60      0.61      5427\n",
      "weighted avg       0.66      0.66      0.66      5427\n",
      "\n",
      "F1-score: 0.6080837323476918\n"
     ]
    }
   ],
   "source": [
    "print(classification_report(y_true, y_pred))\n",
    "print(\"F1-score: \" + str(f1_score(y_true, y_pred, average = 'macro')))"
   ]
  },
  {
   "cell_type": "markdown",
   "metadata": {
    "id": "ig2tCdMV3Vi3"
   },
   "source": [
    "As you can see the model starts to overfit after the 4th epoch, hence the weights of the 4th epoch have been restored.\n",
    "\n",
    "The model reached a good performance, with a **F1-score** of **0.61**."
   ]
  },
  {
   "cell_type": "markdown",
   "metadata": {
    "id": "MXsqGoDQhYRF"
   },
   "source": [
    "# Second model"
   ]
  },
  {
   "cell_type": "markdown",
   "metadata": {
    "id": "K1iLEqKn5QMk"
   },
   "source": [
    "I used another model as alternative to the first one in order to try to improve the performance."
   ]
  },
  {
   "cell_type": "markdown",
   "metadata": {
    "id": "2syLVSxl6h7o"
   },
   "source": [
    "I found another interesting paper$^{2}$ on Sequence Modelling that proposed a generic temporal convolutional network (TCN) as a dilated-causal version of CNN. It works as a strong alternative to recurent architectures that can handle a long input sequence without suffering from vanishing or exploding gradient problems."
   ]
  },
  {
   "cell_type": "markdown",
   "metadata": {
    "id": "W2in7uKY9FEp"
   },
   "source": [
    "The proposed TCN model is inspired by Christof Henkel$^3$, one of the grandmasters on Kaggle. \n",
    "\n",
    "The model consists of:\n",
    "\n",
    "- Two TCN blocks stacked with the kernel size of 3 and dilation factors of 1, 2, and 4;\n",
    "- The first TCN block contains 128 filters, and the second block uses 64 filters; the input features will be based on Word Embedding;\n",
    "- Each block’s result will take the form of a sequence;\n",
    "- The final sequence is then passed to two different global pooling layers;\n",
    "- Next, both results are concatenated and passed into a dense layer of 16 neurons, and pass to the output."
   ]
  },
  {
   "cell_type": "code",
   "execution_count": 85,
   "metadata": {
    "id": "Hmjzy4NLhhQP"
   },
   "outputs": [],
   "source": [
    "def tcn_model(kernel_size = 3, activation='relu', input_dim = None, \n",
    "                   output_dim=300, emb_matrix = None, max_length = None):\n",
    "    \n",
    "    inp = Input( shape=(max_length,))\n",
    "    x = Embedding(input_dim=input_dim, \n",
    "                  output_dim=max_length,\n",
    "                  input_length = max_length,\n",
    "                  weights = [emb_matrix],\n",
    "                  trainable = False)(inp)\n",
    "    \n",
    "    x = SpatialDropout1D(0.1)(x)\n",
    "    \n",
    "    x = TCN(128,dilations = [1, 2, 4], return_sequences=True, activation = activation, name = 'tcn1')(x)\n",
    "    x = TCN(64,dilations = [1, 2, 4], return_sequences=True, activation = activation, name = 'tcn2')(x)\n",
    "    \n",
    "    avg_pool = GlobalAveragePooling1D()(x)\n",
    "    max_pool = GlobalMaxPool1D()(x)\n",
    "    \n",
    "    conc = concatenate([avg_pool, max_pool])\n",
    "    conc = Dense(16, activation=\"relu\")(conc)\n",
    "    conc = Dropout(0.1)(conc)\n",
    "    outp = Dense(y_train_enc.shape[1], activation=\"softmax\")(conc)    \n",
    "\n",
    "    model = Model(inputs=inp, outputs=outp)\n",
    "\n",
    "    return model"
   ]
  },
  {
   "cell_type": "code",
   "execution_count": 86,
   "metadata": {
    "colab": {
     "base_uri": "https://localhost:8080/"
    },
    "id": "fR8pCK_hh6IC",
    "outputId": "23b68d01-62ad-4b63-b1fa-7e025db51250"
   },
   "outputs": [
    {
     "name": "stdout",
     "output_type": "stream",
     "text": [
      "Model: \"model\"\n",
      "__________________________________________________________________________________________________\n",
      " Layer (type)                   Output Shape         Param #     Connected to                     \n",
      "==================================================================================================\n",
      " input_7 (InputLayer)           [(None, 200)]        0           []                               \n",
      "                                                                                                  \n",
      " embedding (Embedding)          (None, 200, 200)     5249600     ['input_7[0][0]']                \n",
      "                                                                                                  \n",
      " spatial_dropout1d (SpatialDrop  (None, 200, 200)    0           ['embedding[0][0]']              \n",
      " out1D)                                                                                           \n",
      "                                                                                                  \n",
      " tcn1 (TCN)                     (None, 200, 128)     349056      ['spatial_dropout1d[0][0]']      \n",
      "                                                                                                  \n",
      " tcn2 (TCN)                     (None, 200, 64)      94656       ['tcn1[0][0]']                   \n",
      "                                                                                                  \n",
      " global_average_pooling1d (Glob  (None, 64)          0           ['tcn2[0][0]']                   \n",
      " alAveragePooling1D)                                                                              \n",
      "                                                                                                  \n",
      " global_max_pooling1d_6 (Global  (None, 64)          0           ['tcn2[0][0]']                   \n",
      " MaxPooling1D)                                                                                    \n",
      "                                                                                                  \n",
      " concatenate_6 (Concatenate)    (None, 128)          0           ['global_average_pooling1d[0][0]'\n",
      "                                                                 , 'global_max_pooling1d_6[0][0]']\n",
      "                                                                                                  \n",
      " dense_12 (Dense)               (None, 16)           2064        ['concatenate_6[0][0]']          \n",
      "                                                                                                  \n",
      " dropout_12 (Dropout)           (None, 16)           0           ['dense_12[0][0]']               \n",
      "                                                                                                  \n",
      " dense_13 (Dense)               (None, 7)            119         ['dropout_12[0][0]']             \n",
      "                                                                                                  \n",
      "==================================================================================================\n",
      "Total params: 5,695,495\n",
      "Trainable params: 445,895\n",
      "Non-trainable params: 5,249,600\n",
      "__________________________________________________________________________________________________\n"
     ]
    }
   ],
   "source": [
    "second_model = tcn_model(input_dim = len(word_index) + 1, \n",
    "                         max_length = max_len, \n",
    "                         emb_matrix = embedding_matrix)\n",
    "\n",
    "second_model.compile(loss = 'categorical_crossentropy', \n",
    "                      optimizer = 'adam', \n",
    "                      metrics = tfa.metrics.F1Score(num_classes = y_train_enc.shape[1], average='macro'))\n",
    "\n",
    "second_model.summary()"
   ]
  },
  {
   "cell_type": "markdown",
   "metadata": {
    "id": "bCBJbnz6BlkB"
   },
   "source": [
    "## Structure"
   ]
  },
  {
   "cell_type": "code",
   "execution_count": 87,
   "metadata": {
    "colab": {
     "base_uri": "https://localhost:8080/",
     "height": 685
    },
    "id": "YJpIRcKCgLbT",
    "outputId": "4790932d-2c6b-4fdd-90bc-232817e48f00"
   },
   "outputs": [
    {
     "data": {
      "image/png": "[encoded data removed]",
      "text/plain": [
       "<IPython.core.display.Image object>"
      ]
     },
     "execution_count": 87,
     "metadata": {},
     "output_type": "execute_result"
    }
   ],
   "source": [
    "plot_model(second_model, show_shapes=True, show_layer_names=False, dpi=60)"
   ]
  },
  {
   "cell_type": "markdown",
   "metadata": {
    "id": "OOCuFUZxBrYL"
   },
   "source": [
    "## Training"
   ]
  },
  {
   "cell_type": "markdown",
   "metadata": {
    "id": "zZeRUxll4SSL"
   },
   "source": [
    "The callbacks are the same of the first model.\n",
    "\n",
    "The value of epochs is 40 and the value of batch size is equal to 128.\n",
    "\n",
    "The values of parameters have been tuned during some experiments."
   ]
  },
  {
   "cell_type": "code",
   "execution_count": 88,
   "metadata": {
    "id": "8KafkFy1lSli"
   },
   "outputs": [],
   "source": [
    "early2 = EarlyStopping(monitor = \"val_f1_score\", \n",
    "                         mode = \"max\", \n",
    "                         min_delta = 0, \n",
    "                         patience=7, \n",
    "                         verbose = 2,\n",
    "                         restore_best_weights = True)\n",
    "\n",
    "mc2 = ModelCheckpoint('./tcn.h5', \n",
    "                      monitor = 'val_f1_score', \n",
    "                      mode = 'max', \n",
    "                      verbose = 1, \n",
    "                      save_best_only = True)"
   ]
  },
  {
   "cell_type": "code",
   "execution_count": 89,
   "metadata": {
    "colab": {
     "base_uri": "https://localhost:8080/"
    },
    "id": "PWQYeB3hlb6o",
    "outputId": "ba26ce96-5bce-4ac1-e3d1-c0cb04a55812"
   },
   "outputs": [
    {
     "name": "stdout",
     "output_type": "stream",
     "text": [
      "Epoch 1/40\n",
      "340/340 [==============================] - ETA: 0s - loss: 1.4025 - f1_score: 0.2218\n",
      "Epoch 1: val_f1_score improved from -inf to 0.25123, saving model to ./tcn.h5\n",
      "340/340 [==============================] - 22s 55ms/step - loss: 1.4025 - f1_score: 0.2218 - val_loss: 1.2073 - val_f1_score: 0.2512\n",
      "Epoch 2/40\n",
      "340/340 [==============================] - ETA: 0s - loss: 1.1552 - f1_score: 0.3407\n",
      "Epoch 2: val_f1_score improved from 0.25123 to 0.39193, saving model to ./tcn.h5\n",
      "340/340 [==============================] - 17s 50ms/step - loss: 1.1552 - f1_score: 0.3407 - val_loss: 1.0468 - val_f1_score: 0.3919\n",
      "Epoch 3/40\n",
      "340/340 [==============================] - ETA: 0s - loss: 1.0409 - f1_score: 0.3992\n",
      "Epoch 3: val_f1_score improved from 0.39193 to 0.41528, saving model to ./tcn.h5\n",
      "340/340 [==============================] - 17s 49ms/step - loss: 1.0409 - f1_score: 0.3992 - val_loss: 0.9885 - val_f1_score: 0.4153\n",
      "Epoch 4/40\n",
      "340/340 [==============================] - ETA: 0s - loss: 0.9781 - f1_score: 0.4902\n",
      "Epoch 4: val_f1_score improved from 0.41528 to 0.54300, saving model to ./tcn.h5\n",
      "340/340 [==============================] - 17s 49ms/step - loss: 0.9781 - f1_score: 0.4902 - val_loss: 0.9709 - val_f1_score: 0.5430\n",
      "Epoch 5/40\n",
      "340/340 [==============================] - ETA: 0s - loss: 0.9343 - f1_score: 0.5469\n",
      "Epoch 5: val_f1_score improved from 0.54300 to 0.57974, saving model to ./tcn.h5\n",
      "340/340 [==============================] - 17s 51ms/step - loss: 0.9343 - f1_score: 0.5469 - val_loss: 0.9437 - val_f1_score: 0.5797\n",
      "Epoch 6/40\n",
      "339/340 [============================>.] - ETA: 0s - loss: 0.8945 - f1_score: 0.5699\n",
      "Epoch 6: val_f1_score did not improve from 0.57974\n",
      "340/340 [==============================] - 17s 49ms/step - loss: 0.8945 - f1_score: 0.5699 - val_loss: 0.9635 - val_f1_score: 0.5706\n",
      "Epoch 7/40\n",
      "339/340 [============================>.] - ETA: 0s - loss: 0.8589 - f1_score: 0.5859\n",
      "Epoch 7: val_f1_score did not improve from 0.57974\n",
      "340/340 [==============================] - 17s 50ms/step - loss: 0.8590 - f1_score: 0.5859 - val_loss: 0.9706 - val_f1_score: 0.5793\n",
      "Epoch 8/40\n",
      "340/340 [==============================] - ETA: 0s - loss: 0.8240 - f1_score: 0.6084\n",
      "Epoch 8: val_f1_score improved from 0.57974 to 0.58175, saving model to ./tcn.h5\n",
      "340/340 [==============================] - 17s 50ms/step - loss: 0.8240 - f1_score: 0.6084 - val_loss: 0.9556 - val_f1_score: 0.5817\n",
      "Epoch 9/40\n",
      "339/340 [============================>.] - ETA: 0s - loss: 0.7910 - f1_score: 0.6269\n",
      "Epoch 9: val_f1_score did not improve from 0.58175\n",
      "340/340 [==============================] - 17s 49ms/step - loss: 0.7910 - f1_score: 0.6269 - val_loss: 0.9724 - val_f1_score: 0.5722\n",
      "Epoch 10/40\n",
      "340/340 [==============================] - ETA: 0s - loss: 0.7534 - f1_score: 0.6461\n",
      "Epoch 10: val_f1_score did not improve from 0.58175\n",
      "340/340 [==============================] - 17s 49ms/step - loss: 0.7534 - f1_score: 0.6461 - val_loss: 0.9609 - val_f1_score: 0.5710\n",
      "Epoch 11/40\n",
      "340/340 [==============================] - ETA: 0s - loss: 0.7094 - f1_score: 0.6625\n",
      "Epoch 11: val_f1_score did not improve from 0.58175\n",
      "340/340 [==============================] - 17s 51ms/step - loss: 0.7094 - f1_score: 0.6625 - val_loss: 1.0177 - val_f1_score: 0.5744\n",
      "Epoch 12/40\n",
      "339/340 [============================>.] - ETA: 0s - loss: 0.6781 - f1_score: 0.6885\n",
      "Epoch 12: val_f1_score did not improve from 0.58175\n",
      "340/340 [==============================] - 17s 49ms/step - loss: 0.6780 - f1_score: 0.6886 - val_loss: 1.0563 - val_f1_score: 0.5418\n",
      "Epoch 13/40\n",
      "340/340 [==============================] - ETA: 0s - loss: 0.6411 - f1_score: 0.7026\n",
      "Epoch 13: val_f1_score did not improve from 0.58175\n",
      "340/340 [==============================] - 17s 49ms/step - loss: 0.6411 - f1_score: 0.7026 - val_loss: 1.1486 - val_f1_score: 0.5540\n",
      "Epoch 14/40\n",
      "340/340 [==============================] - ETA: 0s - loss: 0.6136 - f1_score: 0.7169\n",
      "Epoch 14: val_f1_score did not improve from 0.58175\n",
      "340/340 [==============================] - 17s 49ms/step - loss: 0.6136 - f1_score: 0.7169 - val_loss: 1.0986 - val_f1_score: 0.5661\n",
      "Epoch 15/40\n",
      "340/340 [==============================] - ETA: 0s - loss: 0.5821 - f1_score: 0.7357\n",
      "Epoch 15: val_f1_score did not improve from 0.58175\n",
      "Restoring model weights from the end of the best epoch: 8.\n",
      "340/340 [==============================] - 17s 49ms/step - loss: 0.5821 - f1_score: 0.7357 - val_loss: 1.1942 - val_f1_score: 0.5552\n",
      "Epoch 15: early stopping\n"
     ]
    }
   ],
   "source": [
    "history = second_model.fit(x_train_vec, y_train_enc,\n",
    "                    epochs = 40, batch_size = 128,\n",
    "                    validation_data = (x_val_vec,y_val_enc),\n",
    "                    verbose = 1,\n",
    "                    callbacks = [mc2, early2])"
   ]
  },
  {
   "cell_type": "code",
   "execution_count": 90,
   "metadata": {
    "id": "Wzcprk4HqRzM"
   },
   "outputs": [],
   "source": [
    "y_pred = np.argmax(second_model.predict(x_test_vec), axis = 1)\n",
    "y_true = np.argmax(y_test_enc, axis = 1)"
   ]
  },
  {
   "cell_type": "code",
   "execution_count": 91,
   "metadata": {
    "colab": {
     "base_uri": "https://localhost:8080/",
     "height": 573
    },
    "id": "aK7PHSl4Bw9D",
    "outputId": "8768246e-382c-4d11-be2a-7fa25b6ebcf8"
   },
   "outputs": [
    {
     "data": {
      "image/png": "[encoded data removed]",
      "text/plain": [
       "<Figure size 432x288 with 1 Axes>"
      ]
     },
     "metadata": {
      "needs_background": "light"
     },
     "output_type": "display_data"
    },
    {
     "data": {
      "image/png": "[encoded data removed]",
      "text/plain": [
       "<Figure size 432x288 with 1 Axes>"
      ]
     },
     "metadata": {
      "needs_background": "light"
     },
     "output_type": "display_data"
    }
   ],
   "source": [
    "display_history(history)"
   ]
  },
  {
   "cell_type": "code",
   "execution_count": 92,
   "metadata": {
    "colab": {
     "base_uri": "https://localhost:8080/"
    },
    "id": "FXQ_wPHxqUa0",
    "outputId": "9a549e84-8590-4141-982a-936e390be468"
   },
   "outputs": [
    {
     "name": "stdout",
     "output_type": "stream",
     "text": [
      "              precision    recall  f1-score   support\n",
      "\n",
      "           0       0.46      0.46      0.46       572\n",
      "           1       0.52      0.37      0.43       116\n",
      "           2       0.64      0.63      0.63        81\n",
      "           3       0.74      0.81      0.77      1978\n",
      "           4       0.61      0.58      0.59      1648\n",
      "           5       0.56      0.53      0.54       355\n",
      "           6       0.59      0.54      0.56       677\n",
      "\n",
      "    accuracy                           0.64      5427\n",
      "   macro avg       0.59      0.56      0.57      5427\n",
      "weighted avg       0.63      0.64      0.64      5427\n",
      "\n",
      "F1-score: 0.5716650297736295\n"
     ]
    }
   ],
   "source": [
    "print(classification_report(y_true, y_pred))\n",
    "print(\"F1-score: \" + str(f1_score(y_true, y_pred, average = 'macro')))"
   ]
  },
  {
   "cell_type": "markdown",
   "metadata": {
    "id": "WBKW-kVftGh-"
   },
   "source": [
    "As you can see the model starts to overfit after the 13th epoch, hence the weights of the 13th epoch have been restored.\n",
    "\n",
    "The model reached a **F1-score** of **0.57**."
   ]
  },
  {
   "cell_type": "markdown",
   "metadata": {
    "id": "TLvXm8cJBy2W"
   },
   "source": [
    "# Conclusion"
   ]
  },
  {
   "cell_type": "markdown",
   "metadata": {
    "id": "MiKqoflwB08W"
   },
   "source": [
    "The best model for the F1-score metric is the **first model** for better score, since it reaches a **F1-score** of **0.61** with about 7M parameters to train."
   ]
  },
  {
   "cell_type": "markdown",
   "metadata": {
    "id": "feOIoPIuYczG"
   },
   "source": [
    "$^1$Polignano, Marco & Basile, Pierpaolo & de Gemmis, Marco & Semeraro, Giovanni. (2019). \"A Comparison of Word-Embeddings in Emotion Detection from Text using BiLSTM, CNN and Self-Attention\". \\\\\n",
    "https://www.researchgate.net/publication/333740389_A_Comparison_of_Word-Embeddings_in_Emotion_Detection_from_Text_using_BiLSTM_CNN_and_Self-Attention\n",
    "\n",
    "$^2$S. bai, J. Kolter, and V. Koltun, \"An empirical Evaluation of Generic Convolutional and Recurrent Networks for Sequence Modelling\", *arXiv*, April, 2018\n",
    "\n",
    "$^3$C. Henkel, \"Temporal Convolutional Network\", *Kaggle*,\n",
    "https://www.kaggle.com/code/christofhenkel/temporal-convolutional-network/notebook"
   ]
  }
 ],
 "metadata": {
  "accelerator": "GPU",
  "colab": {
   "collapsed_sections": [],
   "name": "Definitivo_DL_with_notes.ipynb",
   "provenance": []
  },
  "gpuClass": "standard",
  "kernelspec": {
   "display_name": "Python 3 (ipykernel)",
   "language": "python",
   "name": "python3"
  },
  "language_info": {
   "codemirror_mode": {
    "name": "ipython",
    "version": 3
   },
   "file_extension": ".py",
   "mimetype": "text/x-python",
   "name": "python",
   "nbconvert_exporter": "python",
   "pygments_lexer": "ipython3",
   "version": "3.9.7"
  }
 },
 "nbformat": 4,
 "nbformat_minor": 1
}
